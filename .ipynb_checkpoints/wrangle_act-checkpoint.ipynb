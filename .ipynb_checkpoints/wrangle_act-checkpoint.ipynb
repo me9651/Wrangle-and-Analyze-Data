{
 "cells": [
  {
   "cell_type": "markdown",
   "metadata": {},
   "source": [
    "# Wrangle and Analyze Data"
   ]
  },
  {
   "cell_type": "markdown",
   "metadata": {},
   "source": [
    "### Imports"
   ]
  },
  {
   "cell_type": "code",
   "execution_count": 78,
   "metadata": {},
   "outputs": [],
   "source": [
    "import pandas as pd\n",
    "import tweepy\n",
    "import requests as rq\n",
    "import time\n",
    "import json"
   ]
  },
  {
   "cell_type": "markdown",
   "metadata": {},
   "source": [
    "### Read Data from Sources"
   ]
  },
  {
   "cell_type": "markdown",
   "metadata": {},
   "source": [
    "#### Open DogRates Twitter Archive with *Pandas*"
   ]
  },
  {
   "cell_type": "code",
   "execution_count": 2,
   "metadata": {},
   "outputs": [],
   "source": [
    "# Specific Dtypes for columns and date columns to parse\n",
    "archive_dtypes = {'tweet_id':str, 'in_reply_to_status_id': str, 'in_reply_to_user_id': str, 'retweeted_status_id':str, 'retweeted_status_user_id':str}\n",
    "archive_parse_dates = ['timestamp', 'retweeted_status_timestamp']\n",
    "\n",
    "archive_df = pd.read_csv('twitter-archive-enhanced.csv', dtype=archive_dtypes, parse_dates=archive_parse_dates)"
   ]
  },
  {
   "cell_type": "markdown",
   "metadata": {},
   "source": [
    "#### Get Tweets with *Tweepy*"
   ]
  },
  {
   "cell_type": "code",
   "execution_count": 3,
   "metadata": {},
   "outputs": [],
   "source": [
    "retry_count = 0\n",
    "\n",
    "while True:\n",
    "    try:\n",
    "        # open tweet detailed tweet archive file saved locally\n",
    "        with open('tweet_json.txt', 'r') as fr:\n",
    "            tweets = pd.io.json.json_normalize(\n",
    "                        json.load(fr)\n",
    "                     )\n",
    "        break\n",
    "    \n",
    "    except FileNotFoundError as e:\n",
    "        # list of tweets to download from the archive file\n",
    "        tweet_ids = archive_df.tweet_id.unique().tolist()\n",
    "        tweets = []\n",
    "\n",
    "        for t in tweet_ids:\n",
    "            try:\n",
    "                # Parsing Tweepy objects: https://stackoverflow.com/questions/27900451\n",
    "                twitter_keys = pd.read_json('twitterkeys.json', typ='series')\n",
    "                twitter_auth = tweepy.OAuthHandler(twitter_keys['ConsumerAPIKey'], twitter_keys['ConsumerSecret'])\n",
    "                twitter_auth.set_access_token(twitter_keys['AccessToken'], twitter_keys['AccessTokenSecret'])\n",
    "                twitter = tweepy.API(twitter_auth, parser=tweepy.parsers.JSONParser(),\n",
    "                                     wait_on_rate_limit=True,\n",
    "                                     wait_on_rate_limit_notify=True)\n",
    "\n",
    "                # get tweets one-by-one because tweepy.statuses_lookup doesn't support tweet_mode=extended\n",
    "                tweets.append(\n",
    "                    twitter.get_status(t, tweet_mode='extended', include_entities=True, trim_user=True)\n",
    "                )\n",
    "\n",
    "            except tweepy.TweepError as te:\n",
    "                #swallow 'status not found' errors, raise all others\n",
    "                if(te.api_code != 144):\n",
    "                    raise\n",
    "\n",
    "            #delay to reduce request rate; 15m limiting causes proxy timeout on intranet    \n",
    "            time.sleep(.2)\n",
    "\n",
    "        # write file to disk to avoid re-downloading\n",
    "        with open('tweet_json.txt', 'w') as fw:\n",
    "            json.dump(tweets, fw)\n",
    "        \n",
    "        # if met maximum retries, raise an error\n",
    "        retry_count = retry_count + 1\n",
    "        if retry_count == 4:\n",
    "            raise"
   ]
  },
  {
   "cell_type": "markdown",
   "metadata": {},
   "source": [
    "#### Download Image Predictions with *Requests*"
   ]
  },
  {
   "cell_type": "code",
   "execution_count": 35,
   "metadata": {},
   "outputs": [],
   "source": [
    "retry_count = 0\n",
    "\n",
    "while True:\n",
    "    try: \n",
    "        # Open image prediction file saved locally\n",
    "        images_df = pd.read_csv('image-predictions.tsv', sep='\\t', dtype={'tweet_id':str})\n",
    "        break\n",
    "    \n",
    "    except FileNotFoundError as e:\n",
    "        # Use Requests library to download\n",
    "        image_predictions_url = 'https://d17h27t6h515a5.cloudfront.net/topher/2017/August/599fd2ad_image-predictions/image-predictions.tsv'\n",
    "\n",
    "        # Save the file\n",
    "        with open('image-predictions.tsv', 'w') as fr:\n",
    "            r = rq.get(image_predictions_url).text\n",
    "            fr.write(r)\n",
    "        \n",
    "        # if met maximum retries, raise an error\n",
    "        retry_count = retry_count + 1\n",
    "        if retry_count == 4:\n",
    "            raise"
   ]
  },
  {
   "cell_type": "markdown",
   "metadata": {},
   "source": [
    "#### Download Tweets by ID from the Archive"
   ]
  },
  {
   "cell_type": "code",
   "execution_count": 89,
   "metadata": {},
   "outputs": [
    {
     "data": {
      "image/png": "[encoded data removed]",
      "text/plain": [
       "<Figure size 432x288 with 1 Axes>"
      ]
     },
     "metadata": {},
     "output_type": "display_data"
    }
   ],
   "source": [
    "archive_df"
   ]
  }
 ],
 "metadata": {
  "kernelspec": {
   "display_name": "Python 3",
   "language": "python",
   "name": "python3"
  },
  "language_info": {
   "codemirror_mode": {
    "name": "ipython",
    "version": 3
   },
   "file_extension": ".py",
   "mimetype": "text/x-python",
   "name": "python",
   "nbconvert_exporter": "python",
   "pygments_lexer": "ipython3",
   "version": "3.5.4"
  }
 },
 "nbformat": 4,
 "nbformat_minor": 2
}
